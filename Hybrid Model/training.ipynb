{
 "cells": [
  {
   "cell_type": "code",
   "execution_count": 1,
   "metadata": {
    "colab": {
     "base_uri": "https://localhost:8080/",
     "height": 122
    },
    "colab_type": "code",
    "id": "yQgtxX7lkcXf",
    "outputId": "20af080e-3db8-4b2f-f17e-b12b1ecec3c5"
   },
   "outputs": [
    {
     "name": "stdout",
     "output_type": "stream",
     "text": [
      "Go to this URL in a browser: https://accounts.google.com/o/oauth2/auth?client_id=947318989803-6bn6qk8qdgf4n4g3pfee6491hc0brc4i.apps.googleusercontent.com&redirect_uri=urn%3aietf%3awg%3aoauth%3a2.0%3aoob&response_type=code&scope=email%20https%3a%2f%2fwww.googleapis.com%2fauth%2fdocs.test%20https%3a%2f%2fwww.googleapis.com%2fauth%2fdrive%20https%3a%2f%2fwww.googleapis.com%2fauth%2fdrive.photos.readonly%20https%3a%2f%2fwww.googleapis.com%2fauth%2fpeopleapi.readonly\n",
      "\n",
      "Enter your authorization code:\n",
      "··········\n",
      "Mounted at /content/drive\n"
     ]
    }
   ],
   "source": [
    "from google.colab import drive\n",
    "drive.mount('/content/drive')"
   ]
  },
  {
   "cell_type": "code",
   "execution_count": 2,
   "metadata": {
    "colab": {
     "base_uri": "https://localhost:8080/",
     "height": 105
    },
    "colab_type": "code",
    "id": "-vKSt0XhnIob",
    "outputId": "115ce719-4fcc-4fb6-a1a8-843b3795bf73"
   },
   "outputs": [
    {
     "name": "stdout",
     "output_type": "stream",
     "text": [
      "Collecting split-folders\n",
      "  Downloading https://files.pythonhosted.org/packages/20/67/29dda743e6d23ac1ea3d16704d8bbb48d65faf3f1b1eaf53153b3da56c56/split_folders-0.3.1-py3-none-any.whl\n",
      "Installing collected packages: split-folders\n",
      "Successfully installed split-folders-0.3.1\n"
     ]
    }
   ],
   "source": [
    "pip install split-folders"
   ]
  },
  {
   "cell_type": "code",
   "execution_count": null,
   "metadata": {
    "colab": {},
    "colab_type": "code",
    "id": "dbLeBoIyT25Q"
   },
   "outputs": [],
   "source": [
    "import numpy as np\n",
    "from keras.preprocessing.image import ImageDataGenerator\n",
    "from keras.models import Sequential\n",
    "from keras.layers import Input, Lambda, Dense, Flatten, LeakyReLU\n",
    "from keras.models import Model\n",
    "from keras.applications.vgg16 import VGG16\n",
    "from keras.applications.vgg16 import preprocess_input\n",
    "from keras.preprocessing import image\n",
    "import split_folders\n",
    "import glob\n",
    "import os\n",
    "from PIL import Image\n",
    "import matplotlib.pyplot as plt\n",
    "\n",
    "from keras.callbacks import ModelCheckpoint"
   ]
  },
  {
   "cell_type": "code",
   "execution_count": null,
   "metadata": {
    "colab": {},
    "colab_type": "code",
    "id": "HKPlRA5iuIDO"
   },
   "outputs": [],
   "source": [
    "driveZip = '/content/drive/My Drive/temp/cropped_images.zip'\n",
    "train_path = '/content/output/train/'\n",
    "valid_path = '/content/output/val/'\n",
    "\n",
    "\n",
    "image_types = [\"kurti\",\"saree\",\"shirt\",\"tshirt\"]\n",
    "epochs = 10\n",
    "batch_size = 32\n",
    "image_size = [224,224]\n",
    "num_classes = 4"
   ]
  },
  {
   "cell_type": "code",
   "execution_count": null,
   "metadata": {
    "colab": {},
    "colab_type": "code",
    "id": "jgf0Vg6bla5v"
   },
   "outputs": [],
   "source": [
    "import zipfile\n",
    "with zipfile.ZipFile(driveZip,'r') as zip_dir:\n",
    "    zip_dir.extractall(path='/content/')"
   ]
  },
  {
   "cell_type": "code",
   "execution_count": 6,
   "metadata": {
    "colab": {
     "base_uri": "https://localhost:8080/",
     "height": 34
    },
    "colab_type": "code",
    "id": "YkISoadJmb2g",
    "outputId": "6b1d2f52-c583-4e7e-83be-07e597f2bd08"
   },
   "outputs": [
    {
     "name": "stderr",
     "output_type": "stream",
     "text": [
      "Copying files: 6383 files [00:02, 2445.76 files/s]\n"
     ]
    }
   ],
   "source": [
    "split_folders.ratio('cropped_images', output=\"output\", seed=1337, ratio= (.8,.2)) # default values"
   ]
  },
  {
   "cell_type": "code",
   "execution_count": null,
   "metadata": {
    "colab": {},
    "colab_type": "code",
    "id": "Uu_xQO5R5wG7"
   },
   "outputs": [],
   "source": [
    "!rm -r /content/output/train/none\n",
    "!rm -r /content/output/val/none"
   ]
  },
  {
   "cell_type": "code",
   "execution_count": null,
   "metadata": {
    "colab": {},
    "colab_type": "code",
    "id": "3LtVL7T3WcpU"
   },
   "outputs": [],
   "source": [
    "# Image size should be [224,224]\n",
    "# Iterate through each color folder\n",
    "\n",
    "def resize_images(image_dir):\n",
    "  for im_type in image_types:\n",
    "    # Iterate through each image file in each image_type folder\n",
    "    #  glob reads in any image with the extension \"image_dir/im_type/*\"\n",
    "    for file in glob.glob(os.path.join(image_dir, im_type, \"*\")):\n",
    "        im = Image.open(file)\n",
    "        f, e = os.path.splitext(file)\n",
    "        imResize = im.resize((224,224), Image.ANTIALIAS)\n",
    "        imResize.save(f + '.png', 'PNG', quality=90)\n",
    "\n",
    "resize_images('/content/output/val')\n",
    "resize_images('/content/output/train')"
   ]
  },
  {
   "cell_type": "code",
   "execution_count": null,
   "metadata": {
    "colab": {},
    "colab_type": "code",
    "id": "3tkF778eWclc"
   },
   "outputs": [],
   "source": [
    "# add preprocessing layer to the front of VGG\n",
    "vgg = VGG16(input_shape=image_size + [3], weights='imagenet', include_top=False)\n",
    "\n",
    "# don't train existing weights\n",
    "for layer in vgg.layers:\n",
    "  layer.trainable = False"
   ]
  },
  {
   "cell_type": "code",
   "execution_count": 26,
   "metadata": {
    "colab": {
     "base_uri": "https://localhost:8080/",
     "height": 935
    },
    "colab_type": "code",
    "id": "yiMu-uG4Wce9",
    "outputId": "0ebc7a2f-5fec-4309-a7a2-ecfad8e62675"
   },
   "outputs": [
    {
     "name": "stdout",
     "output_type": "stream",
     "text": [
      "Model: \"model_5\"\n",
      "_________________________________________________________________\n",
      "Layer (type)                 Output Shape              Param #   \n",
      "=================================================================\n",
      "input_2 (InputLayer)         (None, 224, 224, 3)       0         \n",
      "_________________________________________________________________\n",
      "block1_conv1 (Conv2D)        (None, 224, 224, 64)      1792      \n",
      "_________________________________________________________________\n",
      "block1_conv2 (Conv2D)        (None, 224, 224, 64)      36928     \n",
      "_________________________________________________________________\n",
      "block1_pool (MaxPooling2D)   (None, 112, 112, 64)      0         \n",
      "_________________________________________________________________\n",
      "block2_conv1 (Conv2D)        (None, 112, 112, 128)     73856     \n",
      "_________________________________________________________________\n",
      "block2_conv2 (Conv2D)        (None, 112, 112, 128)     147584    \n",
      "_________________________________________________________________\n",
      "block2_pool (MaxPooling2D)   (None, 56, 56, 128)       0         \n",
      "_________________________________________________________________\n",
      "block3_conv1 (Conv2D)        (None, 56, 56, 256)       295168    \n",
      "_________________________________________________________________\n",
      "block3_conv2 (Conv2D)        (None, 56, 56, 256)       590080    \n",
      "_________________________________________________________________\n",
      "block3_conv3 (Conv2D)        (None, 56, 56, 256)       590080    \n",
      "_________________________________________________________________\n",
      "block3_pool (MaxPooling2D)   (None, 28, 28, 256)       0         \n",
      "_________________________________________________________________\n",
      "block4_conv1 (Conv2D)        (None, 28, 28, 512)       1180160   \n",
      "_________________________________________________________________\n",
      "block4_conv2 (Conv2D)        (None, 28, 28, 512)       2359808   \n",
      "_________________________________________________________________\n",
      "block4_conv3 (Conv2D)        (None, 28, 28, 512)       2359808   \n",
      "_________________________________________________________________\n",
      "block4_pool (MaxPooling2D)   (None, 14, 14, 512)       0         \n",
      "_________________________________________________________________\n",
      "block5_conv1 (Conv2D)        (None, 14, 14, 512)       2359808   \n",
      "_________________________________________________________________\n",
      "block5_conv2 (Conv2D)        (None, 14, 14, 512)       2359808   \n",
      "_________________________________________________________________\n",
      "block5_conv3 (Conv2D)        (None, 14, 14, 512)       2359808   \n",
      "_________________________________________________________________\n",
      "block5_pool (MaxPooling2D)   (None, 7, 7, 512)         0         \n",
      "_________________________________________________________________\n",
      "flatten_6 (Flatten)          (None, 25088)             0         \n",
      "_________________________________________________________________\n",
      "dense_10 (Dense)             (None, 1000)              25089000  \n",
      "_________________________________________________________________\n",
      "leaky_re_lu_5 (LeakyReLU)    (None, 1000)              0         \n",
      "_________________________________________________________________\n",
      "dense_11 (Dense)             (None, 4)                 4004      \n",
      "=================================================================\n",
      "Total params: 39,807,692\n",
      "Trainable params: 25,093,004\n",
      "Non-trainable params: 14,714,688\n",
      "_________________________________________________________________\n"
     ]
    }
   ],
   "source": [
    "# our layers - you can add more if you want\n",
    "x = Flatten()(vgg.output)\n",
    "x = Dense(1000)(x)\n",
    "x = LeakyReLU(alpha=0.05)(x)\n",
    "prediction = Dense(num_classes, activation='softmax')(x)\n",
    "\n",
    "# create a model object\n",
    "model = Model(inputs=vgg.input, outputs=prediction)\n",
    "\n",
    "# view the structure of the model\n",
    "model.summary()"
   ]
  },
  {
   "cell_type": "code",
   "execution_count": null,
   "metadata": {
    "colab": {},
    "colab_type": "code",
    "id": "G78QCgahWcR3"
   },
   "outputs": [],
   "source": [
    "# tell the model what cost and optimization method to use\n",
    "model.compile(\n",
    "  loss='categorical_crossentropy',\n",
    "  optimizer='adam',\n",
    "  metrics=['accuracy']\n",
    ")"
   ]
  },
  {
   "cell_type": "code",
   "execution_count": null,
   "metadata": {
    "colab": {},
    "colab_type": "code",
    "id": "jE6MkOuLicCh"
   },
   "outputs": [],
   "source": [
    "train_datagen = ImageDataGenerator(rescale = 1./255,\n",
    "                                   shear_range = 0.2,\n",
    "                                   zoom_range = 0.2,\n",
    "                                   horizontal_flip = True)\n",
    "\n",
    "val_datagen = ImageDataGenerator(rescale = 1./255)"
   ]
  },
  {
   "cell_type": "code",
   "execution_count": 29,
   "metadata": {
    "colab": {
     "base_uri": "https://localhost:8080/",
     "height": 34
    },
    "colab_type": "code",
    "id": "OL21YB79kBF6",
    "outputId": "f619f040-629a-4e3d-a2ab-ada0bf76a01b"
   },
   "outputs": [
    {
     "name": "stdout",
     "output_type": "stream",
     "text": [
      "Found 4162 images belonging to 4 classes.\n"
     ]
    }
   ],
   "source": [
    "training_set = train_datagen.flow_from_directory('/content/output/train/',\n",
    "                                                 target_size = (224, 224),\n",
    "                                                 batch_size = batch_size,\n",
    "                                                 class_mode = 'categorical')"
   ]
  },
  {
   "cell_type": "code",
   "execution_count": 30,
   "metadata": {
    "colab": {
     "base_uri": "https://localhost:8080/",
     "height": 34
    },
    "colab_type": "code",
    "id": "I1gGD6mekOwn",
    "outputId": "084061da-87a1-425f-c654-4967b5ab03f9"
   },
   "outputs": [
    {
     "name": "stdout",
     "output_type": "stream",
     "text": [
      "Found 1042 images belonging to 4 classes.\n"
     ]
    }
   ],
   "source": [
    "validation_set = val_datagen.flow_from_directory('/content/output/val/',\n",
    "                                            target_size = (224, 224),\n",
    "                                            batch_size = batch_size,\n",
    "                                            class_mode = 'categorical')"
   ]
  },
  {
   "cell_type": "code",
   "execution_count": null,
   "metadata": {
    "colab": {},
    "colab_type": "code",
    "id": "lqyDRmMzKBJD"
   },
   "outputs": [],
   "source": [
    "#earlyStopping = EarlyStopping(monitor='val_loss', patience=10, verbose=0, mode='min')\n",
    "mcp_save = ModelCheckpoint('model.h5', save_best_only=True, monitor='val_loss', mode='min')"
   ]
  },
  {
   "cell_type": "code",
   "execution_count": null,
   "metadata": {
    "colab": {},
    "colab_type": "code",
    "id": "v36DyKrDLzX7"
   },
   "outputs": [],
   "source": [
    "'''model.load_weights(\"my_vgg_run3.h5\");\n",
    "epochs = 5'''"
   ]
  },
  {
   "cell_type": "code",
   "execution_count": 32,
   "metadata": {
    "colab": {
     "base_uri": "https://localhost:8080/",
     "height": 377
    },
    "colab_type": "code",
    "id": "FC-BUhE-kdXY",
    "outputId": "822b810e-aec8-4e6a-9b76-4b9367b007c0"
   },
   "outputs": [
    {
     "name": "stdout",
     "output_type": "stream",
     "text": [
      "Epoch 1/10\n",
      "131/131 [==============================] - 60s 461ms/step - loss: 1.8775 - accuracy: 0.7729 - val_loss: 0.4302 - val_accuracy: 0.8532\n",
      "Epoch 2/10\n",
      "131/131 [==============================] - 58s 444ms/step - loss: 0.2928 - accuracy: 0.8948 - val_loss: 0.4874 - val_accuracy: 0.8647\n",
      "Epoch 3/10\n",
      "131/131 [==============================] - 59s 451ms/step - loss: 0.2593 - accuracy: 0.9046 - val_loss: 0.6672 - val_accuracy: 0.8848\n",
      "Epoch 4/10\n",
      "131/131 [==============================] - 59s 450ms/step - loss: 0.2234 - accuracy: 0.9169 - val_loss: 0.7910 - val_accuracy: 0.7898\n",
      "Epoch 5/10\n",
      "131/131 [==============================] - 59s 451ms/step - loss: 0.2927 - accuracy: 0.9041 - val_loss: 0.4754 - val_accuracy: 0.8896\n",
      "Epoch 6/10\n",
      "131/131 [==============================] - 59s 451ms/step - loss: 0.1258 - accuracy: 0.9515 - val_loss: 0.6062 - val_accuracy: 0.8791\n",
      "Epoch 7/10\n",
      "131/131 [==============================] - 59s 450ms/step - loss: 0.1263 - accuracy: 0.9510 - val_loss: 0.4873 - val_accuracy: 0.9050\n",
      "Epoch 8/10\n",
      "131/131 [==============================] - 59s 451ms/step - loss: 0.1416 - accuracy: 0.9519 - val_loss: 0.7233 - val_accuracy: 0.9165\n",
      "Epoch 9/10\n",
      "131/131 [==============================] - 59s 449ms/step - loss: 0.0930 - accuracy: 0.9680 - val_loss: 0.1860 - val_accuracy: 0.9184\n",
      "Epoch 10/10\n",
      "131/131 [==============================] - 59s 449ms/step - loss: 0.1079 - accuracy: 0.9640 - val_loss: 0.0307 - val_accuracy: 0.9107\n"
     ]
    }
   ],
   "source": [
    "# fit the model\n",
    "r = model.fit_generator(\n",
    "  training_set,\n",
    "  validation_data=validation_set,\n",
    "  epochs=epochs,\n",
    "  steps_per_epoch=len(training_set),\n",
    "  validation_steps=len(validation_set),\n",
    "  callbacks=[mcp_save]\n",
    ")"
   ]
  },
  {
   "cell_type": "code",
   "execution_count": null,
   "metadata": {
    "colab": {},
    "colab_type": "code",
    "id": "jUUpPi1uOLBo"
   },
   "outputs": [],
   "source": [
    "# serialize model to JSON\n",
    "model_json = model.to_json()\n",
    "with open(\"model.json\", \"w\") as json_file:\n",
    "    json_file.write(model_json)"
   ]
  },
  {
   "cell_type": "code",
   "execution_count": 34,
   "metadata": {
    "colab": {
     "base_uri": "https://localhost:8080/",
     "height": 901
    },
    "colab_type": "code",
    "id": "mqjZWeRVPfsr",
    "outputId": "02c20f03-2bb4-4f8f-ca02-545f9e10f8ca"
   },
   "outputs": [
    {
     "name": "stdout",
     "output_type": "stream",
     "text": [
      "Model: \"model_6\"\n",
      "_________________________________________________________________\n",
      "Layer (type)                 Output Shape              Param #   \n",
      "=================================================================\n",
      "input_2 (InputLayer)         (None, 224, 224, 3)       0         \n",
      "_________________________________________________________________\n",
      "block1_conv1 (Conv2D)        (None, 224, 224, 64)      1792      \n",
      "_________________________________________________________________\n",
      "block1_conv2 (Conv2D)        (None, 224, 224, 64)      36928     \n",
      "_________________________________________________________________\n",
      "block1_pool (MaxPooling2D)   (None, 112, 112, 64)      0         \n",
      "_________________________________________________________________\n",
      "block2_conv1 (Conv2D)        (None, 112, 112, 128)     73856     \n",
      "_________________________________________________________________\n",
      "block2_conv2 (Conv2D)        (None, 112, 112, 128)     147584    \n",
      "_________________________________________________________________\n",
      "block2_pool (MaxPooling2D)   (None, 56, 56, 128)       0         \n",
      "_________________________________________________________________\n",
      "block3_conv1 (Conv2D)        (None, 56, 56, 256)       295168    \n",
      "_________________________________________________________________\n",
      "block3_conv2 (Conv2D)        (None, 56, 56, 256)       590080    \n",
      "_________________________________________________________________\n",
      "block3_conv3 (Conv2D)        (None, 56, 56, 256)       590080    \n",
      "_________________________________________________________________\n",
      "block3_pool (MaxPooling2D)   (None, 28, 28, 256)       0         \n",
      "_________________________________________________________________\n",
      "block4_conv1 (Conv2D)        (None, 28, 28, 512)       1180160   \n",
      "_________________________________________________________________\n",
      "block4_conv2 (Conv2D)        (None, 28, 28, 512)       2359808   \n",
      "_________________________________________________________________\n",
      "block4_conv3 (Conv2D)        (None, 28, 28, 512)       2359808   \n",
      "_________________________________________________________________\n",
      "block4_pool (MaxPooling2D)   (None, 14, 14, 512)       0         \n",
      "_________________________________________________________________\n",
      "block5_conv1 (Conv2D)        (None, 14, 14, 512)       2359808   \n",
      "_________________________________________________________________\n",
      "block5_conv2 (Conv2D)        (None, 14, 14, 512)       2359808   \n",
      "_________________________________________________________________\n",
      "block5_conv3 (Conv2D)        (None, 14, 14, 512)       2359808   \n",
      "_________________________________________________________________\n",
      "block5_pool (MaxPooling2D)   (None, 7, 7, 512)         0         \n",
      "_________________________________________________________________\n",
      "flatten_6 (Flatten)          (None, 25088)             0         \n",
      "_________________________________________________________________\n",
      "dense_10 (Dense)             (None, 1000)              25089000  \n",
      "_________________________________________________________________\n",
      "leaky_re_lu_5 (LeakyReLU)    (None, 1000)              0         \n",
      "=================================================================\n",
      "Total params: 39,803,688\n",
      "Trainable params: 25,089,000\n",
      "Non-trainable params: 14,714,688\n",
      "_________________________________________________________________\n"
     ]
    }
   ],
   "source": [
    "secondLastModel = Model(inputs=vgg.input, outputs=x)\n",
    "secondLastModel.summary()\n",
    "secondLastModel_json =secondLastModel.to_json()\n",
    "with open(\"secondLastModel.json\", \"w\") as json_file:\n",
    "    json_file.write(secondLastModel_json)\n",
    "secondLastModel.save_weights('secondLastModel.h5')"
   ]
  },
  {
   "cell_type": "code",
   "execution_count": 35,
   "metadata": {
    "colab": {
     "base_uri": "https://localhost:8080/",
     "height": 221
    },
    "colab_type": "code",
    "id": "axq0KwZjVeMR",
    "outputId": "829f4562-7b9f-4559-ecb5-857a29215204"
   },
   "outputs": [
    {
     "name": "stdout",
     "output_type": "stream",
     "text": [
      "Model: \"model_7\"\n",
      "_________________________________________________________________\n",
      "Layer (type)                 Output Shape              Param #   \n",
      "=================================================================\n",
      "input_3 (InputLayer)         (None, 1000)              0         \n",
      "_________________________________________________________________\n",
      "dense_12 (Dense)             (None, 4)                 4004      \n",
      "=================================================================\n",
      "Total params: 4,004\n",
      "Trainable params: 4,004\n",
      "Non-trainable params: 0\n",
      "_________________________________________________________________\n"
     ]
    }
   ],
   "source": [
    "inputs = Input(shape=(1000,))\n",
    "outputs =Dense(num_classes, activation='softmax')(inputs)\n",
    "lastModel = Model(inputs=inputs, outputs=outputs)\n",
    "lastModel.summary()"
   ]
  },
  {
   "cell_type": "code",
   "execution_count": null,
   "metadata": {
    "colab": {},
    "colab_type": "code",
    "id": "WQugEJPIWUw0"
   },
   "outputs": [],
   "source": [
    "lastModel.layers[1].set_weights(model.layers[22].get_weights());"
   ]
  },
  {
   "cell_type": "code",
   "execution_count": null,
   "metadata": {
    "colab": {},
    "colab_type": "code",
    "id": "Wl2rYal5XwqN"
   },
   "outputs": [],
   "source": [
    "lastModel_json = lastModel.to_json()\n",
    "with open(\"lastModel.json\", \"w\") as json_file:\n",
    "    json_file.write(lastModel_json)\n",
    "lastModel.save_weights('lastModel.h5')"
   ]
  },
  {
   "cell_type": "code",
   "execution_count": null,
   "metadata": {
    "colab": {},
    "colab_type": "code",
    "id": "hZt_mpsAfQTE"
   },
   "outputs": [],
   "source": [
    "!cp model.json '/content/drive/My Drive/temp/VGG'\n",
    "!cp secondLastModel.json '/content/drive/My Drive/temp/VGG'\n",
    "!cp lastModel.json '/content/drive/My Drive/temp/VGG'\n",
    "!cp model.h5 '/content/drive/My Drive/temp/VGG'\n",
    "!cp secondLastModel.h5 '/content/drive/My Drive/temp/VGG'\n",
    "!cp lastModel.h5 '/content/drive/My Drive/temp/VGG'"
   ]
  },
  {
   "cell_type": "code",
   "execution_count": 135,
   "metadata": {
    "colab": {
     "base_uri": "https://localhost:8080/",
     "height": 54
    },
    "colab_type": "code",
    "id": "ZSKf1XCKYafd",
    "outputId": "4b2e371d-afc8-4052-b0fe-430302b8c146"
   },
   "outputs": [
    {
     "data": {
      "text/plain": [
       "'from keras.models import model_from_json\\n\\njson_file = open(\\'lastModel.json\\', \\'r\\')\\nloaded_model_json = json_file.read()\\njson_file.close()\\nlast_model = model_from_json(loaded_model_json)\\n\\nlast_model.load_weights(\"lastModel.h5\")'"
      ]
     },
     "execution_count": 135,
     "metadata": {
      "tags": []
     },
     "output_type": "execute_result"
    }
   ],
   "source": [
    "'''from keras.models import model_from_json\n",
    "\n",
    "json_file = open('lastModel.json', 'r')\n",
    "loaded_model_json = json_file.read()\n",
    "json_file.close()\n",
    "last_model = model_from_json(loaded_model_json)\n",
    "\n",
    "last_model.load_weights(\"lastModel.h5\")'''\n"
   ]
  }
 ],
 "metadata": {
  "accelerator": "GPU",
  "colab": {
   "collapsed_sections": [],
   "name": "training.ipynb",
   "provenance": []
  },
  "kernelspec": {
   "display_name": "Python 3",
   "language": "python",
   "name": "python3"
  },
  "language_info": {
   "codemirror_mode": {
    "name": "ipython",
    "version": 3
   },
   "file_extension": ".py",
   "mimetype": "text/x-python",
   "name": "python",
   "nbconvert_exporter": "python",
   "pygments_lexer": "ipython3",
   "version": "3.6.9"
  }
 },
 "nbformat": 4,
 "nbformat_minor": 4
}
