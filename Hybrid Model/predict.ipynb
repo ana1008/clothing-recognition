{
 "cells": [
  {
   "cell_type": "code",
   "execution_count": 2,
   "metadata": {
    "colab": {
     "base_uri": "https://localhost:8080/",
     "height": 34
    },
    "colab_type": "code",
    "id": "1GFF0jx_SPA6",
    "outputId": "08dbaffa-9bdc-4fb9-a0c9-cae1f38a4910"
   },
   "outputs": [
    {
     "data": {
      "text/plain": [
       "\"from google.colab import drive\\ndrive.mount('/content/drive')\""
      ]
     },
     "execution_count": 2,
     "metadata": {
      "tags": []
     },
     "output_type": "execute_result"
    }
   ],
   "source": [
    "'''from google.colab import drive\n",
    "drive.mount('/content/drive')'''"
   ]
  },
  {
   "cell_type": "code",
   "execution_count": 3,
   "metadata": {
    "colab": {
     "base_uri": "https://localhost:8080/",
     "height": 105
    },
    "colab_type": "code",
    "id": "VcC41lLISYvV",
    "outputId": "cd6a6a73-9b21-4043-8315-81e346270dfc"
   },
   "outputs": [
    {
     "name": "stdout",
     "output_type": "stream",
     "text": [
      "Collecting split-folders\n",
      "  Downloading https://files.pythonhosted.org/packages/20/67/29dda743e6d23ac1ea3d16704d8bbb48d65faf3f1b1eaf53153b3da56c56/split_folders-0.3.1-py3-none-any.whl\n",
      "Installing collected packages: split-folders\n",
      "Successfully installed split-folders-0.3.1\n"
     ]
    }
   ],
   "source": [
    "pip install split-folders"
   ]
  },
  {
   "cell_type": "code",
   "execution_count": 4,
   "metadata": {
    "colab": {
     "base_uri": "https://localhost:8080/",
     "height": 34
    },
    "colab_type": "code",
    "id": "RX2v4kHiSbR0",
    "outputId": "27ed09f1-8035-4eff-db51-2185c6e3ed70"
   },
   "outputs": [
    {
     "name": "stderr",
     "output_type": "stream",
     "text": [
      "Using TensorFlow backend.\n"
     ]
    }
   ],
   "source": [
    "import numpy as np\n",
    "from keras.preprocessing.image import ImageDataGenerator\n",
    "from keras.models import Sequential\n",
    "from keras.layers import Input, Lambda, Dense, Flatten\n",
    "from keras.models import Model\n",
    "from keras.applications.vgg16 import VGG16\n",
    "from keras.applications.vgg16 import preprocess_input\n",
    "from keras.preprocessing import image\n",
    "import split_folders\n",
    "import glob\n",
    "import os\n",
    "from PIL import Image\n",
    "import matplotlib.pyplot as plt\n",
    "\n",
    "from keras.models import model_from_json\n",
    "import pickle\n",
    "import math"
   ]
  },
  {
   "cell_type": "code",
   "execution_count": null,
   "metadata": {
    "colab": {},
    "colab_type": "code",
    "id": "wFYNOF1FS7xX"
   },
   "outputs": [],
   "source": [
    "driveZip = '/content/drive/My Drive/temp/cropped_images.zip'\n",
    "\n",
    "image_types = [\"kurti\",\"saree\",\"none\",\"shirt\",\"tshirt\"]\n",
    "batch_size = 32\n",
    "image_size = [224,224]\n",
    "num_classes = 4"
   ]
  },
  {
   "cell_type": "code",
   "execution_count": null,
   "metadata": {
    "colab": {},
    "colab_type": "code",
    "id": "oOsehSelUDha"
   },
   "outputs": [],
   "source": [
    "import zipfile\n",
    "with zipfile.ZipFile(driveZip,'r') as zip_dir:\n",
    "    zip_dir.extractall(path='/content/')"
   ]
  },
  {
   "cell_type": "code",
   "execution_count": 7,
   "metadata": {
    "colab": {
     "base_uri": "https://localhost:8080/",
     "height": 34
    },
    "colab_type": "code",
    "id": "KE0Fb_DZUFhB",
    "outputId": "93b47b51-dcc9-49c6-bd99-8683df2d789c"
   },
   "outputs": [
    {
     "name": "stderr",
     "output_type": "stream",
     "text": [
      "Copying files: 6383 files [00:01, 3231.91 files/s]\n"
     ]
    }
   ],
   "source": [
    "split_folders.ratio('cropped_images', output=\"output\", seed=1337, ratio= (.8,.2)) # default values"
   ]
  },
  {
   "cell_type": "code",
   "execution_count": null,
   "metadata": {
    "colab": {},
    "colab_type": "code",
    "id": "weh6Ro90ULLw"
   },
   "outputs": [],
   "source": [
    "# Image size should be [224,224]\n",
    "# Iterate through each color folder\n",
    "\n",
    "def resize_images(image_dir):\n",
    "  for im_type in image_types:\n",
    "    # Iterate through each image file in each image_type folder\n",
    "    #  glob reads in any image with the extension \"image_dir/im_type/*\"\n",
    "    for file in glob.glob(os.path.join(image_dir, im_type, \"*\")):\n",
    "        im = Image.open(file)\n",
    "        f, e = os.path.splitext(file)\n",
    "        imResize = im.resize((224,224), Image.ANTIALIAS)\n",
    "        imResize.save(f + '.png', 'PNG', quality=90)\n",
    "\n",
    "resize_images('/content/output/val')"
   ]
  },
  {
   "cell_type": "code",
   "execution_count": 9,
   "metadata": {
    "colab": {
     "base_uri": "https://localhost:8080/",
     "height": 34
    },
    "colab_type": "code",
    "id": "F57Xbzkvagk8",
    "outputId": "a1345b1a-d95a-4379-8aba-ef7c89fb4cb7"
   },
   "outputs": [
    {
     "name": "stdout",
     "output_type": "stream",
     "text": [
      "rm: cannot remove 'NOA': No such file or directory\n"
     ]
    }
   ],
   "source": [
    "!rm -r /content/output/train\n",
    "\n",
    "!rm -r NOA\n",
    "!mkdir NOA\n",
    "\n",
    "!mkdir NOA/val\n",
    "!mkdir NOA/val/none\n",
    "!cp -r '/content/output/val/none/' '/content/NOA/val/'\n",
    "!rm -r /content/output/val/none"
   ]
  },
  {
   "cell_type": "code",
   "execution_count": null,
   "metadata": {
    "colab": {},
    "colab_type": "code",
    "id": "SLX7w699apo1"
   },
   "outputs": [],
   "source": [
    "!cp '/content/drive/My Drive/temp/VGG/secondLastModel.json' '/content/'\n",
    "!cp '/content/drive/My Drive/temp/VGG/secondLastModel.h5' '/content/'\n",
    "\n",
    "!cp '/content/drive/My Drive/temp/VGG/lastModel.json' '/content/'\n",
    "!cp '/content/drive/My Drive/temp/VGG/lastModel.h5' '/content/'\n",
    "\n",
    "!cp '/content/drive/My Drive/temp/VGG/logRModel.sav' '/content/'"
   ]
  },
  {
   "cell_type": "code",
   "execution_count": 11,
   "metadata": {
    "colab": {
     "base_uri": "https://localhost:8080/",
     "height": 901
    },
    "colab_type": "code",
    "id": "FIO7HOzrbKUz",
    "outputId": "3eb0d565-0d2e-43fa-8ab3-bf90e3b0a263"
   },
   "outputs": [
    {
     "name": "stdout",
     "output_type": "stream",
     "text": [
      "Model: \"model_6\"\n",
      "_________________________________________________________________\n",
      "Layer (type)                 Output Shape              Param #   \n",
      "=================================================================\n",
      "input_2 (InputLayer)         (None, 224, 224, 3)       0         \n",
      "_________________________________________________________________\n",
      "block1_conv1 (Conv2D)        (None, 224, 224, 64)      1792      \n",
      "_________________________________________________________________\n",
      "block1_conv2 (Conv2D)        (None, 224, 224, 64)      36928     \n",
      "_________________________________________________________________\n",
      "block1_pool (MaxPooling2D)   (None, 112, 112, 64)      0         \n",
      "_________________________________________________________________\n",
      "block2_conv1 (Conv2D)        (None, 112, 112, 128)     73856     \n",
      "_________________________________________________________________\n",
      "block2_conv2 (Conv2D)        (None, 112, 112, 128)     147584    \n",
      "_________________________________________________________________\n",
      "block2_pool (MaxPooling2D)   (None, 56, 56, 128)       0         \n",
      "_________________________________________________________________\n",
      "block3_conv1 (Conv2D)        (None, 56, 56, 256)       295168    \n",
      "_________________________________________________________________\n",
      "block3_conv2 (Conv2D)        (None, 56, 56, 256)       590080    \n",
      "_________________________________________________________________\n",
      "block3_conv3 (Conv2D)        (None, 56, 56, 256)       590080    \n",
      "_________________________________________________________________\n",
      "block3_pool (MaxPooling2D)   (None, 28, 28, 256)       0         \n",
      "_________________________________________________________________\n",
      "block4_conv1 (Conv2D)        (None, 28, 28, 512)       1180160   \n",
      "_________________________________________________________________\n",
      "block4_conv2 (Conv2D)        (None, 28, 28, 512)       2359808   \n",
      "_________________________________________________________________\n",
      "block4_conv3 (Conv2D)        (None, 28, 28, 512)       2359808   \n",
      "_________________________________________________________________\n",
      "block4_pool (MaxPooling2D)   (None, 14, 14, 512)       0         \n",
      "_________________________________________________________________\n",
      "block5_conv1 (Conv2D)        (None, 14, 14, 512)       2359808   \n",
      "_________________________________________________________________\n",
      "block5_conv2 (Conv2D)        (None, 14, 14, 512)       2359808   \n",
      "_________________________________________________________________\n",
      "block5_conv3 (Conv2D)        (None, 14, 14, 512)       2359808   \n",
      "_________________________________________________________________\n",
      "block5_pool (MaxPooling2D)   (None, 7, 7, 512)         0         \n",
      "_________________________________________________________________\n",
      "flatten_6 (Flatten)          (None, 25088)             0         \n",
      "_________________________________________________________________\n",
      "dense_10 (Dense)             (None, 1000)              25089000  \n",
      "_________________________________________________________________\n",
      "leaky_re_lu_5 (LeakyReLU)    (None, 1000)              0         \n",
      "=================================================================\n",
      "Total params: 39,803,688\n",
      "Trainable params: 25,089,000\n",
      "Non-trainable params: 14,714,688\n",
      "_________________________________________________________________\n"
     ]
    }
   ],
   "source": [
    "json_file = open('secondLastModel.json', 'r')\n",
    "loaded_model_json = json_file.read()\n",
    "json_file.close()\n",
    "secondLastModel = model_from_json(loaded_model_json)\n",
    "\n",
    "secondLastModel.load_weights(\"secondLastModel.h5\")\n",
    "secondLastModel.summary()"
   ]
  },
  {
   "cell_type": "code",
   "execution_count": null,
   "metadata": {
    "colab": {},
    "colab_type": "code",
    "id": "xA7oFJskbyha"
   },
   "outputs": [],
   "source": [
    "val_datagen = ImageDataGenerator(rescale = 1./255)"
   ]
  },
  {
   "cell_type": "code",
   "execution_count": 14,
   "metadata": {
    "colab": {
     "base_uri": "https://localhost:8080/",
     "height": 34
    },
    "colab_type": "code",
    "id": "zLPdw5Ahb0gB",
    "outputId": "307eb94c-8033-45b9-fb51-1eb3a937b90f"
   },
   "outputs": [
    {
     "name": "stdout",
     "output_type": "stream",
     "text": [
      "Found 1042 images belonging to 4 classes.\n"
     ]
    }
   ],
   "source": [
    "validation_set = val_datagen.flow_from_directory('/content/output/val/',\n",
    "                                            target_size = (224, 224),\n",
    "                                            batch_size = batch_size,\n",
    "                                            class_mode = 'categorical')"
   ]
  },
  {
   "cell_type": "code",
   "execution_count": 15,
   "metadata": {
    "colab": {
     "base_uri": "https://localhost:8080/",
     "height": 34
    },
    "colab_type": "code",
    "id": "lrsa7PVYvtAd",
    "outputId": "0ba641c4-4094-4316-e97e-e487d8e427ab"
   },
   "outputs": [
    {
     "name": "stdout",
     "output_type": "stream",
     "text": [
      "(1042,)\n"
     ]
    }
   ],
   "source": [
    "def getAllLabels(data_set):\n",
    "    number_of_examples = len(data_set.filenames)\n",
    "    number_of_generator_calls = math.ceil(number_of_examples / (1.0 * batch_size)) \n",
    "    # 1.0 above is to skip integer division\n",
    "    test_labels = []\n",
    "    for i in range(0,int(number_of_generator_calls)):\n",
    "        test_labels.extend(np.array(data_set[i][1]))\n",
    "    oneHotLabels = np.asarray(test_labels)\n",
    "    labels = np.apply_along_axis(np.argmax,1, oneHotLabels)\n",
    "    return labels\n",
    "\n",
    "dtLabels = getAllLabels(validation_set)\n",
    "print(dtLabels.shape)"
   ]
  },
  {
   "cell_type": "code",
   "execution_count": null,
   "metadata": {
    "colab": {},
    "colab_type": "code",
    "id": "vInjx6RTb46z"
   },
   "outputs": [],
   "source": [
    "dtPredict = secondLastModel.predict_generator(validation_set,steps = len(validation_set))"
   ]
  },
  {
   "cell_type": "code",
   "execution_count": 17,
   "metadata": {
    "colab": {
     "base_uri": "https://localhost:8080/",
     "height": 34
    },
    "colab_type": "code",
    "id": "Sdcb2Hr0cnwr",
    "outputId": "f7fdcb59-76bb-44a2-86b3-4a4ffb4c04e9"
   },
   "outputs": [
    {
     "name": "stdout",
     "output_type": "stream",
     "text": [
      "(1042, 1000)\n"
     ]
    }
   ],
   "source": [
    "print(dtPredict.shape)"
   ]
  },
  {
   "cell_type": "code",
   "execution_count": 18,
   "metadata": {
    "colab": {
     "base_uri": "https://localhost:8080/",
     "height": 34
    },
    "colab_type": "code",
    "id": "aymWQ_kxdegh",
    "outputId": "aad6e852-478f-409e-f94f-bdaa22327b6a"
   },
   "outputs": [
    {
     "name": "stdout",
     "output_type": "stream",
     "text": [
      "(1042, 1001)\n"
     ]
    }
   ],
   "source": [
    "labels = np.full(dtPredict.shape[0],1)\n",
    "test1Set = np.concatenate((dtPredict,np.asarray([labels]).T), axis=1)\n",
    "print(test1Set.shape)"
   ]
  },
  {
   "cell_type": "code",
   "execution_count": 19,
   "metadata": {
    "colab": {
     "base_uri": "https://localhost:8080/",
     "height": 34
    },
    "colab_type": "code",
    "id": "uDz3bl10dj3F",
    "outputId": "69cced1f-b5ae-48dd-f1bf-b505a48b534e"
   },
   "outputs": [
    {
     "name": "stdout",
     "output_type": "stream",
     "text": [
      "Found 236 images belonging to 1 classes.\n"
     ]
    }
   ],
   "source": [
    "validation_set = val_datagen.flow_from_directory('/content/NOA/val/',\n",
    "                                            target_size = (224, 224),\n",
    "                                            batch_size = batch_size)"
   ]
  },
  {
   "cell_type": "code",
   "execution_count": null,
   "metadata": {
    "colab": {},
    "colab_type": "code",
    "id": "RkJD1rM6drds"
   },
   "outputs": [],
   "source": [
    "predict = secondLastModel.predict_generator(validation_set,steps = len(validation_set))"
   ]
  },
  {
   "cell_type": "code",
   "execution_count": 21,
   "metadata": {
    "colab": {
     "base_uri": "https://localhost:8080/",
     "height": 34
    },
    "colab_type": "code",
    "id": "Xwah2EKOdv02",
    "outputId": "67ca54e1-6264-44d8-8642-5c557f466632"
   },
   "outputs": [
    {
     "name": "stdout",
     "output_type": "stream",
     "text": [
      "(236, 1001)\n"
     ]
    }
   ],
   "source": [
    "labels = np.full(predict.shape[0],0,np.float32)\n",
    "test0Set = np.concatenate((predict,np.asarray([labels]).T), axis=1)\n",
    "print(test0Set.shape)"
   ]
  },
  {
   "cell_type": "code",
   "execution_count": null,
   "metadata": {
    "colab": {},
    "colab_type": "code",
    "id": "DTawMtNXd0TN"
   },
   "outputs": [],
   "source": [
    "def predictNOA(testData):\n",
    "    testX = testData[:,:-1]\n",
    "    testY = testData[:,-1]\n",
    "    print(testX.shape)\n",
    "    print(testY.shape)\n",
    "\n",
    "    clf = pickle.load(open('logRModel.sav', 'rb'))\n",
    "    out = clf.predict(testX)\n",
    "    return out\n",
    "\n",
    "def getCount(x,val):\n",
    "    return np.where(x == val)[0].shape[0]\n",
    "\n",
    "def getCorectSamples(dataset,out,correctVal):\n",
    "    newSet = []\n",
    "    correctInds = np.where(out == correctVal)[0]\n",
    "    for ind in correctInds:\n",
    "        newSet.append(dataset[ind])\n",
    "    return np.asarray(newSet)\n",
    "\n",
    "def wrongLabelsCount(x,y):\n",
    "    return np.where(x != y)[0].shape[0]"
   ]
  },
  {
   "cell_type": "code",
   "execution_count": null,
   "metadata": {
    "colab": {},
    "colab_type": "code",
    "id": "i7jv5Ip_0czT"
   },
   "outputs": [],
   "source": [
    "totalSamples = test0Set.shape[0] + test1Set.shape[0]\n",
    "wrongSamples = 0"
   ]
  },
  {
   "cell_type": "code",
   "execution_count": 24,
   "metadata": {
    "colab": {
     "base_uri": "https://localhost:8080/",
     "height": 51
    },
    "colab_type": "code",
    "id": "F0m7E-630XFn",
    "outputId": "af092e14-eda2-40aa-cfd4-35539f30e0a7"
   },
   "outputs": [
    {
     "name": "stdout",
     "output_type": "stream",
     "text": [
      "(236, 1000)\n",
      "(236,)\n"
     ]
    }
   ],
   "source": [
    "out = predictNOA(test0Set)\n",
    "wrongSamples += getCount(out,1)"
   ]
  },
  {
   "cell_type": "code",
   "execution_count": 25,
   "metadata": {
    "colab": {
     "base_uri": "https://localhost:8080/",
     "height": 51
    },
    "colab_type": "code",
    "id": "eZzWCy_T2xSn",
    "outputId": "b6d5d77f-37db-4fd1-f7bf-8daec61eded7"
   },
   "outputs": [
    {
     "name": "stdout",
     "output_type": "stream",
     "text": [
      "(1042, 1000)\n",
      "(1042,)\n"
     ]
    }
   ],
   "source": [
    "out = predictNOA(test1Set)\n",
    "wrongSamples += getCount(out,0)"
   ]
  },
  {
   "cell_type": "code",
   "execution_count": 26,
   "metadata": {
    "colab": {
     "base_uri": "https://localhost:8080/",
     "height": 34
    },
    "colab_type": "code",
    "id": "4160NS3z3BKb",
    "outputId": "52cf2e83-393d-45ee-e297-88918797f7f1"
   },
   "outputs": [
    {
     "name": "stdout",
     "output_type": "stream",
     "text": [
      "(961, 1001)\n"
     ]
    }
   ],
   "source": [
    "newSet = getCorectSamples(test1Set,out,1)\n",
    "print(newSet.shape)"
   ]
  },
  {
   "cell_type": "code",
   "execution_count": 27,
   "metadata": {
    "colab": {
     "base_uri": "https://localhost:8080/",
     "height": 221
    },
    "colab_type": "code",
    "id": "b-9ONoCY5h2L",
    "outputId": "030c2154-4ec2-4f2a-f752-f4f6398681ec"
   },
   "outputs": [
    {
     "name": "stdout",
     "output_type": "stream",
     "text": [
      "Model: \"model_7\"\n",
      "_________________________________________________________________\n",
      "Layer (type)                 Output Shape              Param #   \n",
      "=================================================================\n",
      "input_3 (InputLayer)         (None, 1000)              0         \n",
      "_________________________________________________________________\n",
      "dense_12 (Dense)             (None, 4)                 4004      \n",
      "=================================================================\n",
      "Total params: 4,004\n",
      "Trainable params: 4,004\n",
      "Non-trainable params: 0\n",
      "_________________________________________________________________\n"
     ]
    }
   ],
   "source": [
    "json_file = open('lastModel.json', 'r')\n",
    "loaded_model_json = json_file.read()\n",
    "json_file.close()\n",
    "lastModel = model_from_json(loaded_model_json)\n",
    "\n",
    "lastModel.load_weights(\"lastModel.h5\")\n",
    "lastModel.summary()"
   ]
  },
  {
   "cell_type": "code",
   "execution_count": null,
   "metadata": {
    "colab": {},
    "colab_type": "code",
    "id": "fq191qp_50WR"
   },
   "outputs": [],
   "source": [
    "softMaxLabs = lastModel.predict(dtPredict)\n",
    "predLabs = np.apply_along_axis(np.argmax,1, softMaxLabs)"
   ]
  },
  {
   "cell_type": "code",
   "execution_count": 29,
   "metadata": {
    "colab": {
     "base_uri": "https://localhost:8080/",
     "height": 34
    },
    "colab_type": "code",
    "id": "GtBSglNp9LVS",
    "outputId": "3c989a6a-5507-4817-dba9-91766067e2e4"
   },
   "outputs": [
    {
     "name": "stdout",
     "output_type": "stream",
     "text": [
      "(1042,) (1042,)\n"
     ]
    }
   ],
   "source": [
    "print(predLabs.shape,dtLabels.shape)"
   ]
  },
  {
   "cell_type": "code",
   "execution_count": null,
   "metadata": {
    "colab": {},
    "colab_type": "code",
    "id": "PDB3wuMz7V6q"
   },
   "outputs": [],
   "source": [
    "wrongSamples += wrongLabelsCount(predLabs,dtLabels)"
   ]
  },
  {
   "cell_type": "code",
   "execution_count": 31,
   "metadata": {
    "colab": {
     "base_uri": "https://localhost:8080/",
     "height": 34
    },
    "colab_type": "code",
    "id": "o0JtCBd897bM",
    "outputId": "17d29023-aca4-4850-a850-ca2a494ed11e"
   },
   "outputs": [
    {
     "name": "stdout",
     "output_type": "stream",
     "text": [
      "Accuracy:  0.7816901408450704\n"
     ]
    }
   ],
   "source": [
    "print('Accuracy: ',(totalSamples - wrongSamples)/totalSamples)"
   ]
  }
 ],
 "metadata": {
  "accelerator": "GPU",
  "colab": {
   "collapsed_sections": [],
   "name": "predict.ipynb",
   "provenance": []
  },
  "kernelspec": {
   "display_name": "Python 3",
   "language": "python",
   "name": "python3"
  },
  "language_info": {
   "codemirror_mode": {
    "name": "ipython",
    "version": 3
   },
   "file_extension": ".py",
   "mimetype": "text/x-python",
   "name": "python",
   "nbconvert_exporter": "python",
   "pygments_lexer": "ipython3",
   "version": "3.6.9"
  }
 },
 "nbformat": 4,
 "nbformat_minor": 4
}
