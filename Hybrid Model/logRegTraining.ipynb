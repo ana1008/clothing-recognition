{
 "cells": [
  {
   "cell_type": "code",
   "execution_count": null,
   "metadata": {
    "colab": {
     "base_uri": "https://localhost:8080/",
     "height": 122
    },
    "colab_type": "code",
    "id": "m47MwrkgjV0Y",
    "outputId": "01873188-ed1a-4f2c-de2a-28a97d045947"
   },
   "outputs": [
    {
     "name": "stdout",
     "output_type": "stream",
     "text": [
      "Go to this URL in a browser: https://accounts.google.com/o/oauth2/auth?client_id=947318989803-6bn6qk8qdgf4n4g3pfee6491hc0brc4i.apps.googleusercontent.com&redirect_uri=urn%3aietf%3awg%3aoauth%3a2.0%3aoob&response_type=code&scope=email%20https%3a%2f%2fwww.googleapis.com%2fauth%2fdocs.test%20https%3a%2f%2fwww.googleapis.com%2fauth%2fdrive%20https%3a%2f%2fwww.googleapis.com%2fauth%2fdrive.photos.readonly%20https%3a%2f%2fwww.googleapis.com%2fauth%2fpeopleapi.readonly\n",
      "\n",
      "Enter your authorization code:\n",
      "··········\n",
      "Mounted at /content/drive\n"
     ]
    }
   ],
   "source": [
    "from google.colab import drive\n",
    "drive.mount('/content/drive')"
   ]
  },
  {
   "cell_type": "code",
   "execution_count": null,
   "metadata": {
    "colab": {
     "base_uri": "https://localhost:8080/",
     "height": 105
    },
    "colab_type": "code",
    "id": "xtQNZOPUjkh7",
    "outputId": "69e95a5f-2c77-46d7-8f58-766c61218fa8"
   },
   "outputs": [
    {
     "name": "stdout",
     "output_type": "stream",
     "text": [
      "Collecting split-folders\n",
      "  Downloading https://files.pythonhosted.org/packages/20/67/29dda743e6d23ac1ea3d16704d8bbb48d65faf3f1b1eaf53153b3da56c56/split_folders-0.3.1-py3-none-any.whl\n",
      "Installing collected packages: split-folders\n",
      "Successfully installed split-folders-0.3.1\n"
     ]
    }
   ],
   "source": [
    "pip install split-folders"
   ]
  },
  {
   "cell_type": "code",
   "execution_count": null,
   "metadata": {
    "colab": {
     "base_uri": "https://localhost:8080/",
     "height": 34
    },
    "colab_type": "code",
    "id": "QwSBqnSsjo05",
    "outputId": "ab5ee4d6-c21b-40e3-81af-deeffcd06ea5"
   },
   "outputs": [
    {
     "name": "stderr",
     "output_type": "stream",
     "text": [
      "Using TensorFlow backend.\n"
     ]
    }
   ],
   "source": [
    "import numpy as np\n",
    "from keras.preprocessing.image import ImageDataGenerator\n",
    "from keras.models import Sequential\n",
    "from keras.layers import Input, Lambda, Dense, Flatten\n",
    "from keras.models import Model\n",
    "from keras.applications.vgg16 import VGG16\n",
    "from keras.applications.vgg16 import preprocess_input\n",
    "from keras.preprocessing import image\n",
    "import split_folders\n",
    "import glob\n",
    "import os\n",
    "from PIL import Image\n",
    "import matplotlib.pyplot as plt\n",
    "\n",
    "from keras.models import model_from_json\n",
    "import pickle"
   ]
  },
  {
   "cell_type": "code",
   "execution_count": null,
   "metadata": {
    "colab": {},
    "colab_type": "code",
    "id": "ZOfcrvnyjrBR"
   },
   "outputs": [],
   "source": [
    "driveZip = '/content/drive/My Drive/temp/cropped_images.zip'\n",
    "train_path = '/content/output/train/'\n",
    "valid_path = '/content/output/val/'\n",
    "\n",
    "\n",
    "image_types = [\"kurti\",\"none\",\"saree\",\"shirt\",\"tshirt\"]\n",
    "batch_size = 32\n",
    "image_size = [224,224]\n",
    "num_classes = 4"
   ]
  },
  {
   "cell_type": "code",
   "execution_count": null,
   "metadata": {
    "colab": {},
    "colab_type": "code",
    "id": "HggecM8Yk6m5"
   },
   "outputs": [],
   "source": [
    "import zipfile\n",
    "with zipfile.ZipFile(driveZip,'r') as zip_dir:\n",
    "    zip_dir.extractall(path='/content/')"
   ]
  },
  {
   "cell_type": "code",
   "execution_count": null,
   "metadata": {
    "colab": {
     "base_uri": "https://localhost:8080/",
     "height": 34
    },
    "colab_type": "code",
    "id": "Ex6Bol99k9RZ",
    "outputId": "1c72afc7-0c92-4c56-e287-bd2ecec7c09e"
   },
   "outputs": [
    {
     "name": "stderr",
     "output_type": "stream",
     "text": [
      "Copying files: 6383 files [00:02, 3143.71 files/s]\n"
     ]
    }
   ],
   "source": [
    "split_folders.ratio('cropped_images', output=\"output\", seed=1337, ratio= (.8,.2)) # default values"
   ]
  },
  {
   "cell_type": "code",
   "execution_count": null,
   "metadata": {
    "colab": {},
    "colab_type": "code",
    "id": "FNBlM3Z2mdPR"
   },
   "outputs": [],
   "source": [
    "# Image size should be [224,224]\n",
    "# Iterate through each color folder\n",
    "\n",
    "def resize_images(image_dir):\n",
    "  for im_type in image_types:\n",
    "    # Iterate through each image file in each image_type folder\n",
    "    #  glob reads in any image with the extension \"image_dir/im_type/*\"\n",
    "    for file in glob.glob(os.path.join(image_dir, im_type, \"*\")):\n",
    "        im = Image.open(file)\n",
    "        f, e = os.path.splitext(file)\n",
    "        imResize = im.resize((224,224), Image.ANTIALIAS)\n",
    "        imResize.save(f + '.png', 'PNG', quality=90)\n",
    "\n",
    "resize_images('/content/output/val')\n",
    "resize_images('/content/output/train')"
   ]
  },
  {
   "cell_type": "code",
   "execution_count": null,
   "metadata": {
    "colab": {
     "base_uri": "https://localhost:8080/",
     "height": 34
    },
    "colab_type": "code",
    "id": "Zx30S9zKlUFS",
    "outputId": "fb03e2d9-5872-4422-ef6f-51e9d89021e3"
   },
   "outputs": [
    {
     "name": "stdout",
     "output_type": "stream",
     "text": [
      "rm: cannot remove 'NOA': No such file or directory\n"
     ]
    }
   ],
   "source": [
    "!rm -r NOA\n",
    "!mkdir NOA\n",
    "\n",
    "!mkdir NOA/train\n",
    "!mkdir NOA/train/none\n",
    "!cp -r '/content/output/train/none/' '/content/NOA/train/'\n",
    "!rm -r /content/output/train/none\n",
    "\n",
    "!mkdir NOA/val\n",
    "!mkdir NOA/val/none\n",
    "!cp -r '/content/output/val/none/' '/content/NOA/val/'\n",
    "!rm -r /content/output/val/none"
   ]
  },
  {
   "cell_type": "code",
   "execution_count": null,
   "metadata": {
    "colab": {},
    "colab_type": "code",
    "id": "zOJ1nUI3mxHZ"
   },
   "outputs": [],
   "source": [
    "!cp '/content/drive/My Drive/temp/VGG/secondLastModel.json' '/content/'\n",
    "!cp '/content/drive/My Drive/temp/VGG/secondLastModel.h5' '/content/'"
   ]
  },
  {
   "cell_type": "code",
   "execution_count": null,
   "metadata": {
    "colab": {
     "base_uri": "https://localhost:8080/",
     "height": 901
    },
    "colab_type": "code",
    "id": "w1Pg0D1PmPCy",
    "outputId": "f8e02dd7-fbca-4fb8-874b-0443781dd613"
   },
   "outputs": [
    {
     "name": "stdout",
     "output_type": "stream",
     "text": [
      "Model: \"model_6\"\n",
      "_________________________________________________________________\n",
      "Layer (type)                 Output Shape              Param #   \n",
      "=================================================================\n",
      "input_2 (InputLayer)         (None, 224, 224, 3)       0         \n",
      "_________________________________________________________________\n",
      "block1_conv1 (Conv2D)        (None, 224, 224, 64)      1792      \n",
      "_________________________________________________________________\n",
      "block1_conv2 (Conv2D)        (None, 224, 224, 64)      36928     \n",
      "_________________________________________________________________\n",
      "block1_pool (MaxPooling2D)   (None, 112, 112, 64)      0         \n",
      "_________________________________________________________________\n",
      "block2_conv1 (Conv2D)        (None, 112, 112, 128)     73856     \n",
      "_________________________________________________________________\n",
      "block2_conv2 (Conv2D)        (None, 112, 112, 128)     147584    \n",
      "_________________________________________________________________\n",
      "block2_pool (MaxPooling2D)   (None, 56, 56, 128)       0         \n",
      "_________________________________________________________________\n",
      "block3_conv1 (Conv2D)        (None, 56, 56, 256)       295168    \n",
      "_________________________________________________________________\n",
      "block3_conv2 (Conv2D)        (None, 56, 56, 256)       590080    \n",
      "_________________________________________________________________\n",
      "block3_conv3 (Conv2D)        (None, 56, 56, 256)       590080    \n",
      "_________________________________________________________________\n",
      "block3_pool (MaxPooling2D)   (None, 28, 28, 256)       0         \n",
      "_________________________________________________________________\n",
      "block4_conv1 (Conv2D)        (None, 28, 28, 512)       1180160   \n",
      "_________________________________________________________________\n",
      "block4_conv2 (Conv2D)        (None, 28, 28, 512)       2359808   \n",
      "_________________________________________________________________\n",
      "block4_conv3 (Conv2D)        (None, 28, 28, 512)       2359808   \n",
      "_________________________________________________________________\n",
      "block4_pool (MaxPooling2D)   (None, 14, 14, 512)       0         \n",
      "_________________________________________________________________\n",
      "block5_conv1 (Conv2D)        (None, 14, 14, 512)       2359808   \n",
      "_________________________________________________________________\n",
      "block5_conv2 (Conv2D)        (None, 14, 14, 512)       2359808   \n",
      "_________________________________________________________________\n",
      "block5_conv3 (Conv2D)        (None, 14, 14, 512)       2359808   \n",
      "_________________________________________________________________\n",
      "block5_pool (MaxPooling2D)   (None, 7, 7, 512)         0         \n",
      "_________________________________________________________________\n",
      "flatten_6 (Flatten)          (None, 25088)             0         \n",
      "_________________________________________________________________\n",
      "dense_10 (Dense)             (None, 1000)              25089000  \n",
      "_________________________________________________________________\n",
      "leaky_re_lu_5 (LeakyReLU)    (None, 1000)              0         \n",
      "=================================================================\n",
      "Total params: 39,803,688\n",
      "Trainable params: 25,089,000\n",
      "Non-trainable params: 14,714,688\n",
      "_________________________________________________________________\n"
     ]
    }
   ],
   "source": [
    "json_file = open('secondLastModel.json', 'r')\n",
    "loaded_model_json = json_file.read()\n",
    "json_file.close()\n",
    "model = model_from_json(loaded_model_json)\n",
    "\n",
    "model.load_weights(\"secondLastModel.h5\")\n",
    "model.summary()"
   ]
  },
  {
   "cell_type": "code",
   "execution_count": null,
   "metadata": {
    "colab": {},
    "colab_type": "code",
    "id": "mLMc9PaHnT9c"
   },
   "outputs": [],
   "source": [
    "# tell the model what cost and optimization method to use\n",
    "'''model.compile(\n",
    "  loss='categorical_crossentropy',\n",
    "  optimizer='adam',\n",
    "  metrics=['accuracy']\n",
    ")'''"
   ]
  },
  {
   "cell_type": "code",
   "execution_count": null,
   "metadata": {
    "colab": {},
    "colab_type": "code",
    "id": "oPiK-JcqnX_5"
   },
   "outputs": [],
   "source": [
    "train_datagen = ImageDataGenerator(rescale = 1./255,\n",
    "                                   shear_range = 0.2,\n",
    "                                   zoom_range = 0.2,\n",
    "                                   horizontal_flip = True)"
   ]
  },
  {
   "cell_type": "code",
   "execution_count": null,
   "metadata": {
    "colab": {
     "base_uri": "https://localhost:8080/",
     "height": 71
    },
    "colab_type": "code",
    "id": "u59gDdTLnc_B",
    "outputId": "29a4f386-15c4-4067-f6b2-849a81ce4029"
   },
   "outputs": [
    {
     "name": "stdout",
     "output_type": "stream",
     "text": [
      "Found 4162 images belonging to 4 classes.\n"
     ]
    },
    {
     "data": {
      "text/plain": [
       "\"training_set = train_datagen.flow_from_directory('/content/output/train/',\\n                                                 target_size = (224, 224),\\n                                                 batch_size = batch_size)\""
      ]
     },
     "execution_count": 13,
     "metadata": {
      "tags": []
     },
     "output_type": "execute_result"
    }
   ],
   "source": [
    "training_set = train_datagen.flow_from_directory('/content/output/train/',\n",
    "                                                 target_size = (224, 224),\n",
    "                                                 batch_size = batch_size,\n",
    "                                                 class_mode = 'categorical')\n",
    "\n",
    "'''training_set = train_datagen.flow_from_directory('/content/output/train/',\n",
    "                                                 target_size = (224, 224),\n",
    "                                                 batch_size = batch_size)'''"
   ]
  },
  {
   "cell_type": "code",
   "execution_count": null,
   "metadata": {
    "colab": {},
    "colab_type": "code",
    "id": "zAbzTejvnog6"
   },
   "outputs": [],
   "source": [
    "predict = model.predict_generator(training_set,steps = len(training_set))"
   ]
  },
  {
   "cell_type": "code",
   "execution_count": null,
   "metadata": {
    "colab": {
     "base_uri": "https://localhost:8080/",
     "height": 34
    },
    "colab_type": "code",
    "id": "IiIrf8uXsyD7",
    "outputId": "21ecfba6-33bd-45e8-c166-c84732bdc79f"
   },
   "outputs": [
    {
     "name": "stdout",
     "output_type": "stream",
     "text": [
      "(4162, 1000)\n"
     ]
    }
   ],
   "source": [
    "print(predict.shape)"
   ]
  },
  {
   "cell_type": "code",
   "execution_count": null,
   "metadata": {
    "colab": {
     "base_uri": "https://localhost:8080/",
     "height": 34
    },
    "colab_type": "code",
    "id": "z0h8HT9hxVVs",
    "outputId": "b7f8e3de-7ec3-45f7-94e7-3fc473e6d12e"
   },
   "outputs": [
    {
     "name": "stdout",
     "output_type": "stream",
     "text": [
      "(4162, 1001)\n"
     ]
    }
   ],
   "source": [
    "labels = np.full(predict.shape[0],1)\n",
    "train1Set = np.concatenate((predict,np.asarray([labels]).T), axis=1)\n",
    "print(train1Set.shape)"
   ]
  },
  {
   "cell_type": "code",
   "execution_count": null,
   "metadata": {
    "colab": {},
    "colab_type": "code",
    "id": "U8Z5eOXYxwMp"
   },
   "outputs": [],
   "source": [
    "#np.savetxt('train1Set.csv',train1Set, delimiter=',',fmt='%.15f')"
   ]
  },
  {
   "cell_type": "code",
   "execution_count": null,
   "metadata": {
    "colab": {
     "base_uri": "https://localhost:8080/",
     "height": 34
    },
    "colab_type": "code",
    "id": "rk1IQAVczb_m",
    "outputId": "4038cb59-3131-4dc0-ba52-cb81012af2f1"
   },
   "outputs": [
    {
     "name": "stdout",
     "output_type": "stream",
     "text": [
      "Found 943 images belonging to 1 classes.\n"
     ]
    }
   ],
   "source": [
    "training_set = train_datagen.flow_from_directory('/content/NOA/train/',target_size = (224, 224),\n",
    "                                                 batch_size = batch_size)"
   ]
  },
  {
   "cell_type": "code",
   "execution_count": null,
   "metadata": {
    "colab": {},
    "colab_type": "code",
    "id": "uO0K29_1zq5s"
   },
   "outputs": [],
   "source": [
    "predict = model.predict_generator(training_set,steps = len(training_set))"
   ]
  },
  {
   "cell_type": "code",
   "execution_count": null,
   "metadata": {
    "colab": {
     "base_uri": "https://localhost:8080/",
     "height": 34
    },
    "colab_type": "code",
    "id": "_vn3tuLrzz0K",
    "outputId": "bddda086-4474-4280-fc63-db9d242ea511"
   },
   "outputs": [
    {
     "name": "stdout",
     "output_type": "stream",
     "text": [
      "(943, 1001)\n"
     ]
    }
   ],
   "source": [
    "labels = np.full(predict.shape[0],0,np.float32)\n",
    "train0Set = np.concatenate((predict,np.asarray([labels]).T), axis=1)\n",
    "print(train0Set.shape)"
   ]
  },
  {
   "cell_type": "code",
   "execution_count": null,
   "metadata": {
    "colab": {},
    "colab_type": "code",
    "id": "1J0iAdKP0uC2"
   },
   "outputs": [],
   "source": [
    "#np.savetxt('train0Set.csv',train1Set, delimiter=',',fmt='%.15f')"
   ]
  },
  {
   "cell_type": "code",
   "execution_count": null,
   "metadata": {
    "colab": {
     "base_uri": "https://localhost:8080/",
     "height": 34
    },
    "colab_type": "code",
    "id": "jXQQZZtX02Ta",
    "outputId": "ffee83cf-2167-44ce-bec6-6ae1fbeede15"
   },
   "outputs": [
    {
     "name": "stdout",
     "output_type": "stream",
     "text": [
      "(5105, 1001)\n"
     ]
    }
   ],
   "source": [
    "trainData = np.concatenate((train1Set,train0Set), axis=0)\n",
    "print(trainData.shape)"
   ]
  },
  {
   "cell_type": "code",
   "execution_count": null,
   "metadata": {
    "colab": {},
    "colab_type": "code",
    "id": "8bg2fv-vNdvl"
   },
   "outputs": [],
   "source": [
    "#np.savetxt('trainData.csv',trainData, delimiter=',',fmt='%.15f')"
   ]
  },
  {
   "cell_type": "code",
   "execution_count": null,
   "metadata": {
    "colab": {
     "base_uri": "https://localhost:8080/",
     "height": 51
    },
    "colab_type": "code",
    "id": "oSfBLUFU5RVR",
    "outputId": "6dd9a909-02ef-4e51-ef94-5e2bc49612e5"
   },
   "outputs": [
    {
     "name": "stdout",
     "output_type": "stream",
     "text": [
      "(5105, 1000)\n",
      "(5105,)\n"
     ]
    }
   ],
   "source": [
    "X = trainData[:,:-1]\n",
    "Y = trainData[:,-1]\n",
    "print(X.shape)\n",
    "print(Y.shape)"
   ]
  },
  {
   "cell_type": "code",
   "execution_count": null,
   "metadata": {
    "colab": {
     "base_uri": "https://localhost:8080/",
     "height": 102
    },
    "colab_type": "code",
    "id": "uITJ2oEk5Bfe",
    "outputId": "7012c2ef-27b9-4e8c-d66e-cfe043921416"
   },
   "outputs": [
    {
     "data": {
      "text/plain": [
       "LogisticRegression(C=1.0, class_weight=None, dual=False, fit_intercept=True,\n",
       "                   intercept_scaling=1, l1_ratio=None, max_iter=5000,\n",
       "                   multi_class='auto', n_jobs=None, penalty='l2',\n",
       "                   random_state=0, solver='saga', tol=0.0001, verbose=0,\n",
       "                   warm_start=False)"
      ]
     },
     "execution_count": 26,
     "metadata": {
      "tags": []
     },
     "output_type": "execute_result"
    }
   ],
   "source": [
    "'''from sklearn.linear_model import LogisticRegression\n",
    "clf = LogisticRegression(random_state=0,solver='saga',max_iter=5000)'''"
   ]
  },
  {
   "cell_type": "code",
   "execution_count": null,
   "metadata": {
    "colab": {},
    "colab_type": "code",
    "id": "CxKpBY27c9WQ"
   },
   "outputs": [],
   "source": [
    "from sklearn import svm\n",
    "svm_c = 0.01\n",
    "svm_gamma = 1\n",
    "svm_kernal = 'rbf'\n",
    "clf = svm.SVC(C=svm_c,kernel=svm_kernal,gamma=svm_gamma)"
   ]
  },
  {
   "cell_type": "code",
   "execution_count": null,
   "metadata": {
    "colab": {},
    "colab_type": "code",
    "id": "StgBZDsAdFzY"
   },
   "outputs": [],
   "source": [
    "clf.fit(X, Y)"
   ]
  },
  {
   "cell_type": "code",
   "execution_count": null,
   "metadata": {
    "colab": {},
    "colab_type": "code",
    "id": "z5cqgJ-gXzMJ"
   },
   "outputs": [],
   "source": [
    "pickle.dump(clf, open('logRModel.sav', 'wb'))"
   ]
  },
  {
   "cell_type": "code",
   "execution_count": null,
   "metadata": {
    "colab": {},
    "colab_type": "code",
    "id": "kJo2ZhAdYCfa"
   },
   "outputs": [],
   "source": [
    "!cp logRModel.sav '/content/drive/My Drive/temp/VGG'"
   ]
  },
  {
   "cell_type": "markdown",
   "metadata": {
    "colab_type": "text",
    "id": "_6-NwEYtLxPk"
   },
   "source": [
    "# **Testing**"
   ]
  },
  {
   "cell_type": "code",
   "execution_count": null,
   "metadata": {
    "colab": {},
    "colab_type": "code",
    "id": "wa0kgz24LuwO"
   },
   "outputs": [],
   "source": [
    "val_datagen = ImageDataGenerator(rescale = 1./255)"
   ]
  },
  {
   "cell_type": "code",
   "execution_count": null,
   "metadata": {
    "colab": {
     "base_uri": "https://localhost:8080/",
     "height": 34
    },
    "colab_type": "code",
    "id": "utE99YofL7wi",
    "outputId": "5189c226-5a12-4eee-c0a5-da78eb818bd4"
   },
   "outputs": [
    {
     "name": "stdout",
     "output_type": "stream",
     "text": [
      "Found 1042 images belonging to 4 classes.\n"
     ]
    }
   ],
   "source": [
    "validation_set = val_datagen.flow_from_directory('/content/output/val/',\n",
    "                                            target_size = (224, 224),\n",
    "                                            batch_size = batch_size,\n",
    "                                            class_mode = 'categorical')"
   ]
  },
  {
   "cell_type": "code",
   "execution_count": null,
   "metadata": {
    "colab": {},
    "colab_type": "code",
    "id": "_QU7A0MzMBCr"
   },
   "outputs": [],
   "source": [
    "predict = model.predict_generator(validation_set,steps = len(validation_set))"
   ]
  },
  {
   "cell_type": "code",
   "execution_count": null,
   "metadata": {
    "colab": {
     "base_uri": "https://localhost:8080/",
     "height": 34
    },
    "colab_type": "code",
    "id": "H_xYH0RQMF7p",
    "outputId": "d1df9f03-43c6-4ec8-b34a-3b6ed7fd2d5c"
   },
   "outputs": [
    {
     "name": "stdout",
     "output_type": "stream",
     "text": [
      "(1042, 1000)\n"
     ]
    }
   ],
   "source": [
    "print(predict.shape)"
   ]
  },
  {
   "cell_type": "code",
   "execution_count": null,
   "metadata": {
    "colab": {
     "base_uri": "https://localhost:8080/",
     "height": 34
    },
    "colab_type": "code",
    "id": "kjUv8h1UMI1k",
    "outputId": "835e0a1e-96a5-467e-e066-842d1b2bcd1e"
   },
   "outputs": [
    {
     "name": "stdout",
     "output_type": "stream",
     "text": [
      "(1042, 1001)\n"
     ]
    }
   ],
   "source": [
    "labels = np.full(predict.shape[0],1,np.float32)\n",
    "test1Set = np.concatenate((predict,np.asarray([labels]).T), axis=1)\n",
    "print(test1Set.shape)"
   ]
  },
  {
   "cell_type": "code",
   "execution_count": null,
   "metadata": {
    "colab": {},
    "colab_type": "code",
    "id": "4_AttSJ7MPkh"
   },
   "outputs": [],
   "source": [
    "#np.savetxt('test1Set.csv',test1Set, delimiter=',',fmt='%.15f')"
   ]
  },
  {
   "cell_type": "code",
   "execution_count": null,
   "metadata": {
    "colab": {
     "base_uri": "https://localhost:8080/",
     "height": 34
    },
    "colab_type": "code",
    "id": "hI_x84ZFMqMB",
    "outputId": "9d850c90-a950-474d-dfbc-0d106d410d82"
   },
   "outputs": [
    {
     "name": "stdout",
     "output_type": "stream",
     "text": [
      "Found 236 images belonging to 1 classes.\n"
     ]
    }
   ],
   "source": [
    "validation_set = val_datagen.flow_from_directory('/content/NOA/val/',\n",
    "                                            target_size = (224, 224),\n",
    "                                            batch_size = batch_size)"
   ]
  },
  {
   "cell_type": "code",
   "execution_count": null,
   "metadata": {
    "colab": {},
    "colab_type": "code",
    "id": "aYBfjEk1M0hh"
   },
   "outputs": [],
   "source": [
    "predict = model.predict_generator(validation_set,steps = len(validation_set))"
   ]
  },
  {
   "cell_type": "code",
   "execution_count": null,
   "metadata": {
    "colab": {
     "base_uri": "https://localhost:8080/",
     "height": 34
    },
    "colab_type": "code",
    "id": "DS0rHlA2M3yD",
    "outputId": "49073c67-9afd-45f5-e618-11495569bd8b"
   },
   "outputs": [
    {
     "name": "stdout",
     "output_type": "stream",
     "text": [
      "(236, 1001)\n"
     ]
    }
   ],
   "source": [
    "labels = np.full(predict.shape[0],0)\n",
    "test0Set = np.concatenate((predict,np.asarray([labels]).T), axis=1)\n",
    "print(test0Set.shape)"
   ]
  },
  {
   "cell_type": "code",
   "execution_count": null,
   "metadata": {
    "colab": {},
    "colab_type": "code",
    "id": "mf7k4CxXM5mm"
   },
   "outputs": [],
   "source": [
    "#np.savetxt('test0Set.csv',test0Set, delimiter=',',fmt='%.15f')"
   ]
  },
  {
   "cell_type": "code",
   "execution_count": null,
   "metadata": {
    "colab": {
     "base_uri": "https://localhost:8080/",
     "height": 34
    },
    "colab_type": "code",
    "id": "Nhb4a5oNM7hr",
    "outputId": "800ead64-ebbf-4554-b7a2-e203fbdf21ae"
   },
   "outputs": [
    {
     "name": "stdout",
     "output_type": "stream",
     "text": [
      "(1278, 1001)\n"
     ]
    }
   ],
   "source": [
    "testData = np.concatenate((test1Set,test0Set), axis=0)\n",
    "print(testData.shape)"
   ]
  },
  {
   "cell_type": "code",
   "execution_count": null,
   "metadata": {
    "colab": {},
    "colab_type": "code",
    "id": "R98uMxLvNiOa"
   },
   "outputs": [],
   "source": [
    "#np.savetxt('testData.csv',testData, delimiter=',',fmt='%.15f')"
   ]
  },
  {
   "cell_type": "code",
   "execution_count": null,
   "metadata": {
    "colab": {
     "base_uri": "https://localhost:8080/",
     "height": 51
    },
    "colab_type": "code",
    "id": "Xpg-4UaPM972",
    "outputId": "8e5c7ad9-a464-48fb-9ccf-cee8d32ccd70"
   },
   "outputs": [
    {
     "name": "stdout",
     "output_type": "stream",
     "text": [
      "(1278, 1000)\n",
      "(1278,)\n"
     ]
    }
   ],
   "source": [
    "testX = testData[:,:-1]\n",
    "testY = testData[:,-1]\n",
    "print(testX.shape)\n",
    "print(testY.shape)"
   ]
  },
  {
   "cell_type": "code",
   "execution_count": null,
   "metadata": {
    "colab": {},
    "colab_type": "code",
    "id": "y8VjBiL9PL_b"
   },
   "outputs": [],
   "source": [
    "#clf = pickle.load(open('logRModel.sav', 'rb'))"
   ]
  },
  {
   "cell_type": "code",
   "execution_count": null,
   "metadata": {
    "colab": {},
    "colab_type": "code",
    "id": "X-Aaw_iKPJFc"
   },
   "outputs": [],
   "source": [
    "acc = clf.score(testX,testY)"
   ]
  },
  {
   "cell_type": "code",
   "execution_count": null,
   "metadata": {
    "colab": {},
    "colab_type": "code",
    "id": "8s0BEoIQksNu"
   },
   "outputs": [],
   "source": [
    "print(acc)"
   ]
  }
 ],
 "metadata": {
  "accelerator": "GPU",
  "colab": {
   "collapsed_sections": [],
   "name": "logRegTraining.ipynb",
   "provenance": [],
   "toc_visible": true
  },
  "kernelspec": {
   "display_name": "Python 3",
   "language": "python",
   "name": "python3"
  },
  "language_info": {
   "codemirror_mode": {
    "name": "ipython",
    "version": 3
   },
   "file_extension": ".py",
   "mimetype": "text/x-python",
   "name": "python",
   "nbconvert_exporter": "python",
   "pygments_lexer": "ipython3",
   "version": "3.6.9"
  }
 },
 "nbformat": 4,
 "nbformat_minor": 4
}
